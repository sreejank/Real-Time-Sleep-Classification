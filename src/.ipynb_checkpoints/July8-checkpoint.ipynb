{
 "cells": [
  {
   "cell_type": "markdown",
   "metadata": {},
   "source": [
    "# July 8th\n",
    "Today's Goal: Experiment with Neural Networks. "
   ]
  },
  {
   "cell_type": "markdown",
   "metadata": {},
   "source": [
    "I will try the Multilayer Perceptron Classifier to see if it gets me anywhere. Testing on subject 1032."
   ]
  },
  {
   "cell_type": "code",
   "execution_count": 1,
   "metadata": {
    "collapsed": false
   },
   "outputs": [
    {
     "name": "stderr",
     "output_type": "stream",
     "text": [
      "/Users/sreejan/anaconda/lib/python3.5/site-packages/sklearn/cross_validation.py:43: DeprecationWarning: This module has been deprecated in favor of the model_selection module into which all the refactored classes and functions are moved. Also note that the interface of the new CV iterators are different from that of this module. This module will be removed in 0.20.\n",
      "  \"This module will be removed in 0.20.\", DeprecationWarning)\n"
     ]
    },
    {
     "name": "stdout",
     "output_type": "stream",
     "text": [
      "Reading Channels from file...\n",
      "Done!\n",
      "Reading test states from file...\n",
      "Done!\n",
      "Calculating features...\n"
     ]
    },
    {
     "name": "stderr",
     "output_type": "stream",
     "text": [
      "/Users/sreejan/Documents/Programming/SleepClassification/src/load.py:44: VisibleDeprecationWarning: using a non-integer number instead of an integer will result in an error in the future\n",
      "  a=channelArray[i:int(i+epochSize)]\n"
     ]
    },
    {
     "name": "stdout",
     "output_type": "stream",
     "text": [
      "Done!\n",
      "Normalizing features...\n",
      "Done!\n"
     ]
    }
   ],
   "source": [
    "from sklearn.neural_network import BernoulliRBM\n",
    "import load,processing,clustering,plotting\n",
    "eeg,emg,actual=load.getData('../Data/channels1032.dat','../Data/teststates1032.dat')\n",
    "features=processing.getFeatures(eeg,emg)"
   ]
  },
  {
   "cell_type": "code",
   "execution_count": 13,
   "metadata": {
    "collapsed": false
   },
   "outputs": [
    {
     "name": "stdout",
     "output_type": "stream",
     "text": [
      "Neural Network,0.933666707951,0.742348093083,0.990614412101,0.953858452206,0.925831090895\n",
      "Time Taken:\n",
      "0.847205460072\n"
     ]
    }
   ],
   "source": [
    "import numpy as np\n",
    "import time\n",
    "from sklearn.neural_network import MLPClassifier\n",
    "from sklearn.cross_validation import KFold\n",
    "clf=MLPClassifier()\n",
    "features=np.asarray(features)\n",
    "actual=np.asarray(actual)\n",
    "scores=[]\n",
    "sensitivitiesrem=[]\n",
    "specificitiesrem=[]\n",
    "sensitivitiesnrem=[]\n",
    "specificitiesnrem=[]\n",
    "times=[]\n",
    "kf=KFold(len(features),n_folds=4)\n",
    "for trainIndex,testIndex in kf:\n",
    "    features_train,features_test=features[trainIndex],features[testIndex]\n",
    "    labels_train,labels_test=actual[trainIndex],actual[testIndex]\n",
    "    begin=time.time()        \n",
    "    clf.fit(features_train,labels_train)\n",
    "    times.append(time.time()-begin)        \n",
    "    scores.append(clf.score(features_test,labels_test))\n",
    "    calculatedLabels=clf.predict(features_test)\n",
    "            \n",
    "    remtp,remfp,remtn,remfn=0,0,0,0\n",
    "    nremtp,nremfp,nremtn,nremfn=0,0,0,0\n",
    "            \n",
    "    for i in range(len(calculatedLabels)):\n",
    "        if labels_test[i]==2:\n",
    "            if calculatedLabels[i]==2:\n",
    "                remtp+=1\n",
    "            else:\n",
    "                remfn+=1\n",
    "        else:\n",
    "            if calculatedLabels[i]==2:\n",
    "                remfp+=1\n",
    "            else:\n",
    "                remtn+=1\n",
    "                        \n",
    "        if labels_test[i]==1:\n",
    "            if calculatedLabels[i]==1:\n",
    "                nremtp+=1\n",
    "            else:\n",
    "                nremfn+=1\n",
    "        else:\n",
    "            if calculatedLabels[i]==1:\n",
    "                nremfp+=1\n",
    "            else:\n",
    "                nremtn+=1\n",
    "                \n",
    "    sensitivitiesrem.append(float(remtp)/(remtp+remfn))\n",
    "    specificitiesrem.append(float(remtn)/(remtn+remfp))\n",
    "            \n",
    "    sensitivitiesnrem.append(float(nremtp)/(nremtp+nremfn))\n",
    "    specificitiesnrem.append(float(nremtn)/(nremtn+nremfp))\n",
    "print(\"Neural Network\",end=',')\n",
    "print((np.mean(scores)),end=',')\n",
    "print((np.mean(sensitivitiesrem)),end=',')\n",
    "print((np.mean(specificitiesrem)),end=',')\n",
    "print((np.mean(sensitivitiesnrem)),end=',')\n",
    "print((np.mean(specificitiesnrem)),end='')\n",
    "print(\"\\nTime Taken:\")\n",
    "print(np.mean(times))\n"
   ]
  },
  {
   "cell_type": "markdown",
   "metadata": {},
   "source": [
    "This data looks quite good. Let's run the cross validation with the other classifiers to see how it compares."
   ]
  },
  {
   "cell_type": "code",
   "execution_count": 16,
   "metadata": {
    "collapsed": false
   },
   "outputs": [
    {
     "name": "stdout",
     "output_type": "stream",
     "text": [
      "Reading Channels from file...\n",
      "Done!\n",
      "Reading test states from file...\n",
      "Done!\n",
      "Calculating features...\n"
     ]
    },
    {
     "name": "stderr",
     "output_type": "stream",
     "text": [
      "/Users/sreejan/Documents/Programming/SleepClassification/src/load.py:44: VisibleDeprecationWarning: using a non-integer number instead of an integer will result in an error in the future\n",
      "  a=channelArray[i:int(i+epochSize)]\n"
     ]
    },
    {
     "name": "stdout",
     "output_type": "stream",
     "text": [
      "Done!\n",
      "Normalizing features...\n",
      "Done!\n",
      "Subject 1032, Mean Classifier Accuracy, Mean REM Sensitivity, Mean REM Specificity, Mean NREM Sensitivity, Mean NREM Specificity\n",
      "SVC,0.934802039468,0.762238741651,0.99157678442,0.959080988465,0.919658404\n",
      "DecisionTreeClassifier,0.922309677153,0.664326115061,0.986003734817,0.937761947287,0.938103701624\n",
      "GaussianNB,0.933666295104,0.784370286576,0.980371851187,0.942487936373,0.947229002872\n",
      "KNeighborsClassifier,0.931623524069,0.727359405301,0.991090288844,0.950107113376,0.926895793236\n",
      "MLPClassifier,0.934802452316,0.747250053868,0.99062150378,0.952403748436,0.929432465397\n",
      "-----------------\n",
      "Classifier Time Array: \n",
      "[0.22133207321166992, 0.03767991065979004, 0.004144906997680664, 0.0076999664306640625, 3.7976040840148926]\n",
      "-----------------\n",
      "Reading Channels from file...\n",
      "Done!\n",
      "Reading test states from file...\n",
      "Done!\n",
      "Calculating features...\n",
      "Done!\n",
      "Normalizing features...\n",
      "Done!\n",
      "Subject 1039, Mean Classifier Accuracy, Mean REM Sensitivity, Mean REM Specificity, Mean NREM Sensitivity, Mean NREM Specificity\n",
      "SVC,0.942291311755,0.823505140693,0.993579731306,0.964974264589,0.940089022799\n",
      "DecisionTreeClassifier,0.9316439523,0.831392045455,0.987599887018,0.952015342079,0.936670940363\n",
      "GaussianNB,0.922913117547,0.926959325397,0.965975193007,0.961712363069,0.941307759869\n",
      "KNeighborsClassifier,0.939522998296,0.786215954185,0.992463823773,0.95955653086,0.943793845435\n",
      "MLPClassifier,0.942504258944,0.812692775974,0.99178039389,0.962474695145,0.945876355804\n",
      "-----------------\n",
      "Classifier Time Array: \n",
      "[0.20914101600646973, 0.0396268367767334, 0.005105257034301758, 0.008684158325195312, 2.6103057861328125]\n",
      "-----------------\n",
      "Reading Channels from file...\n",
      "Done!\n",
      "Reading test states from file...\n",
      "Done!\n",
      "Calculating features...\n",
      "Done!\n",
      "Normalizing features...\n",
      "Done!\n",
      "Subject 1040, Mean Classifier Accuracy, Mean REM Sensitivity, Mean REM Specificity, Mean NREM Sensitivity, Mean NREM Specificity\n",
      "SVC,0.872444633731,0.748713177067,0.990642465737,0.925330868469,0.849485917621\n",
      "DecisionTreeClassifier,0.856260647359,0.69282216767,0.98930361103,0.892662845813,0.853741518164\n",
      "GaussianNB,0.836882453152,0.822335946574,0.956548498682,0.936753526305,0.820295390573\n",
      "KNeighborsClassifier,0.854557069847,0.739088401436,0.988838440141,0.891516457557,0.853211712657\n",
      "MLPClassifier,0.87031516184,0.767807649667,0.989951858002,0.912871461149,0.857437079897\n",
      "-----------------\n",
      "Classifier Time Array: \n",
      "[0.35662317276000977, 0.038912057876586914, 0.004085063934326172, 0.00916600227355957, 3.616128921508789]\n",
      "-----------------\n",
      "Reading Channels from file...\n",
      "Done!\n",
      "Reading test states from file...\n",
      "Done!\n",
      "Calculating features...\n",
      "Done!\n",
      "Normalizing features...\n",
      "Done!\n",
      "Subject 1134, Mean Classifier Accuracy, Mean REM Sensitivity, Mean REM Specificity, Mean NREM Sensitivity, Mean NREM Specificity\n",
      "SVC,0.945272572402,0.673251838918,0.99754892674,0.954734142259,0.958287681524\n",
      "DecisionTreeClassifier,0.933560477002,0.648336980738,0.995962385751,0.885800310783,0.980575589873\n",
      "GaussianNB,0.796209540034,0.935055199673,0.816130320801,0.956806641242,0.965081524323\n",
      "KNeighborsClassifier,0.947827938671,0.662082337905,0.997541023007,0.942121348956,0.971382683851\n",
      "MLPClassifier,0.952512776831,0.718904098551,0.996432067111,0.950422199934,0.972070148855\n",
      "-----------------\n",
      "Classifier Time Array: \n",
      "[0.20922589302062988, 0.04037737846374512, 0.004018545150756836, 0.011322975158691406, 4.613906145095825]\n",
      "-----------------\n",
      "Reading Channels from file...\n",
      "Done!\n",
      "Reading test states from file...\n",
      "Done!\n",
      "Calculating features...\n",
      "Done!\n",
      "Normalizing features...\n",
      "Done!\n",
      "Subject 1139, Mean Classifier Accuracy, Mean REM Sensitivity, Mean REM Specificity, Mean NREM Sensitivity, Mean NREM Specificity\n",
      "SVC,0.930995475113,0.810782967033,0.9946828647,0.945239547578,0.934035855952\n",
      "DecisionTreeClassifier,0.913800904977,0.768102433281,0.991336957618,0.953978842107,0.894113456637\n",
      "GaussianNB,0.884162895928,0.879954866562,0.935107244026,0.946507958129,0.934429043073\n",
      "KNeighborsClassifier,0.922624434389,0.80489599686,0.994956829518,0.937160698388,0.925509093048\n",
      "MLPClassifier,0.92963800905,0.817602040816,0.99445908775,0.945857822436,0.930424204761\n",
      "-----------------\n",
      "Classifier Time Array: \n",
      "[0.22326993942260742, 0.03629755973815918, 0.0038149356842041016, 0.010748863220214844, 2.6756229400634766]\n",
      "-----------------\n",
      "Reading Channels from file...\n",
      "Done!\n",
      "Reading test states from file...\n",
      "Done!\n",
      "Calculating features...\n",
      "Done!\n",
      "Normalizing features...\n",
      "Done!\n",
      "Subject 1140, Mean Classifier Accuracy, Mean REM Sensitivity, Mean REM Specificity, Mean NREM Sensitivity, Mean NREM Specificity\n",
      "SVC,0.907239819005,0.739117503259,0.993361460387,0.935558321332,0.913108534242\n",
      "DecisionTreeClassifier,0.895701357466,0.793324234029,0.986403743725,0.932425825936,0.903603082564\n",
      "GaussianNB,0.90520361991,0.718262100717,0.992872394169,0.944315843616,0.905618984398\n",
      "KNeighborsClassifier,0.897737556561,0.685931388527,0.993127866565,0.920070461734,0.90988960825\n",
      "MLPClassifier,0.906787330317,0.746119214472,0.991930311043,0.935227591224,0.913715370962\n",
      "-----------------\n",
      "Classifier Time Array: \n",
      "[0.28067779541015625, 0.03930306434631348, 0.003986835479736328, 0.009688854217529297, 2.360093593597412]\n",
      "-----------------\n"
     ]
    }
   ],
   "source": [
    "from importlib import reload\n",
    "reload(clustering)\n",
    "clustering.supervisedCrossValidate(1032)\n",
    "clustering.supervisedCrossValidate(1039)\n",
    "clustering.supervisedCrossValidate(1040)\n",
    "clustering.supervisedCrossValidate(1134)\n",
    "clustering.supervisedCrossValidate(1139)\n",
    "clustering.supervisedCrossValidate(1140)"
   ]
  },
  {
   "cell_type": "markdown",
   "metadata": {},
   "source": [
    "Visualized, the cross validation data looks like this:"
   ]
  },
  {
   "cell_type": "markdown",
   "metadata": {},
   "source": [
    "<img src='crossvalidationplots.png'>"
   ]
  },
  {
   "cell_type": "markdown",
   "metadata": {},
   "source": [
    "From this, we can see that the Neural Network performs similarly to the others, but slightly beats out the others in accuracy each time. It takes a lot longer to train, but is very flexible since there are many parameters that can be fine-tuned to optimize for time. It also can do partial fitting, which may be useful for real-time classification. However, it is also true that this model is not fit for large-scale applications, so further testing will be needed to see if this is fit to implement for this program."
   ]
  },
  {
   "cell_type": "code",
   "execution_count": null,
   "metadata": {
    "collapsed": true
   },
   "outputs": [],
   "source": []
  }
 ],
 "metadata": {
  "kernelspec": {
   "display_name": "Python 3",
   "language": "python",
   "name": "python3"
  },
  "language_info": {
   "codemirror_mode": {
    "name": "ipython",
    "version": 3
   },
   "file_extension": ".py",
   "mimetype": "text/x-python",
   "name": "python",
   "nbconvert_exporter": "python",
   "pygments_lexer": "ipython3",
   "version": "3.5.2"
  }
 },
 "nbformat": 4,
 "nbformat_minor": 0
}
